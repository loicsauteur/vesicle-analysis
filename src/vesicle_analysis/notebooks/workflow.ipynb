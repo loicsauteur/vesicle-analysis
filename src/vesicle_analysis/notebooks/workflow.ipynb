{
 "cells": [
  {
   "cell_type": "code",
   "execution_count": null,
   "metadata": {},
   "outputs": [],
   "source": [
    "import os\n",
    "import vesicle_analysis.io_utils as io\n",
    "import vesicle_analysis.segment as seg\n",
    "import vesicle_analysis.utils as uts\n",
    "import vesicle_analysis.visualise as vis"
   ]
  },
  {
   "cell_type": "markdown",
   "metadata": {},
   "source": [
    "# Define variables"
   ]
  },
  {
   "cell_type": "code",
   "execution_count": null,
   "metadata": {},
   "outputs": [],
   "source": [
    "# Path to use for single image analysis\n",
    "file_path = \"../../../../20241205_PD21_65_notworking_crops/20210602_PD21_065_Vehicle_CCL19_z180_005_crop01.tif\"\n",
    "dir_path = \"../../../../20241205_PD21_65_notworking_crops\"\n",
    "\n",
    "# Channel identifiers. E.g. if vesicles are the first channel use 0\n",
    "dapi_ch = 0\n",
    "vesicle_ch = 3\n",
    "\n",
    "# Additional information for saving-file name. Can be empty, i.e. ''\n",
    "channel_name = \"channel3-rab\"\n",
    "\n",
    "# Use None for automatic threshold choosing. Override auto-threshold choosing\n",
    "# by using either 'otsu' or 'yen'\n",
    "method_vesicle = None"
   ]
  },
  {
   "cell_type": "markdown",
   "metadata": {},
   "source": [
    "## Analyse individual image"
   ]
  },
  {
   "cell_type": "code",
   "execution_count": null,
   "metadata": {},
   "outputs": [],
   "source": [
    "# Load image\n",
    "img, pixel_size = io.read_image(file_path)\n",
    "img_dapi = io.get_channel(img, dapi_ch)\n",
    "img_ves = io.get_channel(img, vesicle_ch)\n",
    "# Segment\n",
    "nuc_mask, nuc_num = seg.segment_nucleus(img_dapi, pixel_size)\n",
    "nuc_volume, nuc_volume_cal = uts.get_nucleus_volume(nuc_mask, pixel_size)\n",
    "ves_mask, ves_num, ves_method = seg.segment_vesicles(\n",
    "    img_ves, pixel_size, nuc_voxels=nuc_volume, method=method_vesicle\n",
    ")\n",
    "if nuc_num > 1:\n",
    "    print(f'Multiple ({nuc_num}) nuclei were identfied',\n",
    "          f'Only the biggest object was kept. Please check the nucleus segmentation.'\n",
    "          )\n",
    "if nuc_mask is None:\n",
    "    raise RuntimeError(f'No nucleus detected')\n",
    "if ves_num == 0:\n",
    "    raise RuntimeError(f'No vesicles identified. '\n",
    "                       f'Threshold method <{ves_method}> was used')\n",
    "if ves_num == 1:\n",
    "    print(f'Attention: only one vesicle was identified.')\n",
    "# Visualise results\n",
    "vis.add_image(img_dapi, \"dapi\", colormap=\"blue\")\n",
    "vis.add_image(img_ves, channel_name)\n",
    "vis.add_labels(nuc_mask, \"nucleus\")\n",
    "vis.add_labels(ves_mask, \"vesicles\")\n",
    "# Measure\n",
    "nuc_table = uts.measure_nucleus(nuc_mask, img_dapi, pixel_size, ves_num)\n",
    "ves_table = uts.measure_vesicles(ves_mask, img_ves, pixel_size, ves_method)\n",
    "dist_table = uts.measure_distances(nuc_mask, ves_mask, pixel_size)\n",
    "angle_dict = uts.get_angle_and_distance(nuc_table, ves_table, pixel_size)\n",
    "result_table = uts.merge_all_tables(nuc_table, ves_table, dist_table, angle_dict)\n",
    "# Save Data\n",
    "io.save_data(file_path, result_table, nuc_mask, ves_mask, img_dapi, img_ves, channel_name)\n",
    "# Show table\n",
    "result_table\n"
   ]
  },
  {
   "cell_type": "markdown",
   "metadata": {},
   "source": [
    "## Batch process"
   ]
  },
  {
   "cell_type": "code",
   "execution_count": null,
   "metadata": {},
   "outputs": [],
   "source": [
    "# Count images\n",
    "total = 0\n",
    "for file in os.listdir(dir_path):\n",
    "    if (file.endswith('.tif') or file.endswith('.tiff') or file.endswith('.nd2')) and not '_mask_' in file and not '_nucCh' in file and not '_vesCh' in file:\n",
    "        total += 1\n",
    "\n",
    "count = 1\n",
    "# Process images\n",
    "for file in os.listdir(dir_path):\n",
    "    if (file.endswith('.tif') or file.endswith('.tiff') or file.endswith('.nd2')) and not '_mask_' in file and not '_nucCh' in file and not '_vesCh' in file:\n",
    "        print('Currently processing', file)\n",
    "        path = os.path.join(dir_path, file)\n",
    "        # Load image\n",
    "        img, pixel_size = io.read_image(path)\n",
    "        img_dapi = io.get_channel(img, dapi_ch)\n",
    "        img_ves = io.get_channel(img, vesicle_ch)\n",
    "        # Segment\n",
    "        nuc_mask, nuc_num = seg.segment_nucleus(img_dapi, pixel_size)\n",
    "        nuc_volume, nuc_volume_cal = uts.get_nucleus_volume(nuc_mask, pixel_size)\n",
    "        ves_mask, ves_num, ves_method = seg.segment_vesicles(\n",
    "            img_ves, pixel_size, nuc_voxels=nuc_volume, method=method_vesicle\n",
    "        )\n",
    "        if nuc_num > 1:\n",
    "            print(\n",
    "                f'Multiple ({nuc_num}) nuclei were identfied',\n",
    "                f'Only the biggest object was kept. ',\n",
    "                f'Please check the nucleus segmentation.'\n",
    "                )\n",
    "        if nuc_mask is None:\n",
    "            raise RuntimeError(f'No nucleus detected')\n",
    "        if ves_num == 0:\n",
    "            raise RuntimeError(f'No vesicles identified. '\n",
    "                            f'Threshold method <{ves_method}> was used')\n",
    "        if ves_num == 1:\n",
    "            print(f'Attention: only one vesicle was identified.')\n",
    "        # Measure\n",
    "        nuc_table = uts.measure_nucleus(nuc_mask, img_dapi, pixel_size, ves_num)\n",
    "        ves_table = uts.measure_vesicles(ves_mask, img_ves, pixel_size, ves_method)\n",
    "        dist_table = uts.measure_distances(nuc_mask, ves_mask, pixel_size)\n",
    "        angle_dict = uts.get_angle_and_distance(nuc_table, ves_table, pixel_size)\n",
    "        result_table = uts.merge_all_tables(nuc_table, ves_table, dist_table, angle_dict)\n",
    "\n",
    "        # Save data\n",
    "        io.save_data(\n",
    "            path, result_table, nuc_mask, ves_mask, img_dapi, img_ves, channel_name\n",
    "        )\n",
    "\n",
    "        print('Finihsed image', count, 'out of', total, 'images.')\n",
    "        count += 1\n",
    "\n",
    "# Merge all tables\n",
    "io.combine_csv_in_folder(dir_path, channel_name)"
   ]
  },
  {
   "cell_type": "code",
   "execution_count": null,
   "metadata": {},
   "outputs": [],
   "source": []
  }
 ],
 "metadata": {
  "kernelspec": {
   "display_name": "vesicle-analysis",
   "language": "python",
   "name": "python3"
  },
  "language_info": {
   "codemirror_mode": {
    "name": "ipython",
    "version": 3
   },
   "file_extension": ".py",
   "mimetype": "text/x-python",
   "name": "python",
   "nbconvert_exporter": "python",
   "pygments_lexer": "ipython3",
   "version": "3.10.16"
  }
 },
 "nbformat": 4,
 "nbformat_minor": 4
}
