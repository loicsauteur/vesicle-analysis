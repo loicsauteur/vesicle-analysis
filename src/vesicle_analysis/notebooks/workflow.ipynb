{
 "cells": [
  {
   "cell_type": "code",
   "execution_count": 1,
   "metadata": {},
   "outputs": [],
   "source": [
    "import vesicle_analysis.io_utils as io\n",
    "import vesicle_analysis.segment as seg\n",
    "import vesicle_analysis.utils as uts\n",
    "import vesicle_analysis.visualise as vis"
   ]
  },
  {
   "cell_type": "markdown",
   "metadata": {},
   "source": [
    "# Define some variables"
   ]
  },
  {
   "cell_type": "code",
   "execution_count": 2,
   "metadata": {},
   "outputs": [],
   "source": [
    "# Path to use for single image analysis\n",
    "file_path = \"../../../../20241205_PD21_65_notworking_crops/20210602_PD21_065_Vehicle_CCL19_z180_005_crop01.tif\"\n",
    "dir_path = \"../../../../20241205_PD21_65_notworking_crops\"\n",
    "\n",
    "# Channel identifiers. E.g. if vesicles are the first channel use 0\n",
    "dapi_ch = 0\n",
    "vesicle_ch = 3\n",
    "\n",
    "# Additional information for saving-file name. Can be empty, i.e. ''\n",
    "channel_name = \"channel3-rab\"\n",
    "\n",
    "# Use None for automatic threshold choosing. Override auto-threshold choosing\n",
    "# by using either 'otsu' or 'yen'\n",
    "method_vesicle = None"
   ]
  },
  {
   "cell_type": "markdown",
   "metadata": {},
   "source": [
    "## Analyse individual image"
   ]
  },
  {
   "cell_type": "code",
   "execution_count": 6,
   "metadata": {},
   "outputs": [
    {
     "name": "stderr",
     "output_type": "stream",
     "text": [
      "/opt/anaconda3/envs/vesicle-analysis/lib/python3.10/site-packages/skimage/filters/rank/generic.py:282: UserWarning: Bad rank filter performance is expected due to a large number of bins (59225), equivalent to an approximate bitdepth of 15.9.\n",
      "  image, footprint, out, mask, n_bins = _handle_input_3D(\n"
     ]
    }
   ],
   "source": [
    "# Load image\n",
    "img, pixel_size = io.read_image(file_path)\n",
    "img_dapi = io.get_channel(img, dapi_ch)\n",
    "img_ves = io.get_channel(img, vesicle_ch)\n",
    "# Segment\n",
    "nuc_mask, nuc_num = seg.segment_nucleus(img_dapi, pixel_size)\n",
    "nuc_volume, nuc_volume_cal = uts.get_nucleus_volume(nuc_mask, pixel_size)\n",
    "ves_mask, ves_num, ves_method = seg.segment_vesicles(\n",
    "    img_ves, pixel_size, nuc_voxels=nuc_volume, method=method_vesicle\n",
    ")\n",
    "# Visualise results\n",
    "vis.add_image(img_dapi, \"dapi\", colormap=\"blue\")\n",
    "vis.add_image(img_ves, channel_name)\n",
    "vis.add_labels(nuc_mask, \"nucleus\")\n",
    "vis.add_labels(ves_mask, \"vesicles\")"
   ]
  },
  {
   "cell_type": "markdown",
   "metadata": {},
   "source": [
    "## Batch process"
   ]
  },
  {
   "cell_type": "code",
   "execution_count": null,
   "metadata": {},
   "outputs": [],
   "source": []
  }
 ],
 "metadata": {
  "kernelspec": {
   "display_name": "vesicle-analysis",
   "language": "python",
   "name": "python3"
  },
  "language_info": {
   "codemirror_mode": {
    "name": "ipython",
    "version": 3
   },
   "file_extension": ".py",
   "mimetype": "text/x-python",
   "name": "python",
   "nbconvert_exporter": "python",
   "pygments_lexer": "ipython3",
   "version": "3.10.16"
  }
 },
 "nbformat": 4,
 "nbformat_minor": 2
}
